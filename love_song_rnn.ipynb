{
  "nbformat": 4,
  "nbformat_minor": 0,
  "metadata": {
    "colab": {
      "name": "love_song_rnn.ipynb",
      "provenance": []
    },
    "kernelspec": {
      "name": "python3",
      "display_name": "Python 3"
    },
    "accelerator": "GPU"
  },
  "cells": [
    {
      "cell_type": "markdown",
      "metadata": {
        "id": "_2Py49Coltwa",
        "colab_type": "text"
      },
      "source": [
        "# **Love Song Challenge**\n",
        "\n",
        "This challenge uses RNN (Recurrent Neural Networks) to generate a love song. The RNN is trained using a .txt file containing some Love song lyrics and -given an initial word or a sequence of characters- generates a love song."
      ]
    },
    {
      "cell_type": "markdown",
      "metadata": {
        "id": "CrUUWpgqmoBp",
        "colab_type": "text"
      },
      "source": [
        "![Image from the Challenge annoucement in Slack](https://files.slack.com/files-pri/TQEPF835E-FSTUSSRH6/template.png)"
      ]
    },
    {
      "cell_type": "code",
      "metadata": {
        "id": "pef3t4g2m0o0",
        "colab_type": "code",
        "colab": {}
      },
      "source": [
        "## Importing the necessary libraries\n",
        "import numpy as np\n",
        "import torch\n",
        "from torch import nn\n",
        "import torch.nn.functional as F"
      ],
      "execution_count": 0,
      "outputs": []
    },
    {
      "cell_type": "code",
      "metadata": {
        "id": "Damy2Vo-o5fX",
        "colab_type": "code",
        "colab": {
          "base_uri": "https://localhost:8080/",
          "height": 68
        },
        "outputId": "d4943575-cb80-4349-9019-370a09f4f645"
      },
      "source": [
        "# open text file and read in data as `text`\n",
        "with open(\"lovelyrics.txt\", 'r') as f:\n",
        "    text = f.read()\n",
        "\n",
        "print(text[:100])"
      ],
      "execution_count": 3,
      "outputs": [
        {
          "output_type": "stream",
          "text": [
            "Doesn't take much to make me happy\n",
            "And make me smile with glee \n",
            "Never never will I feel discouraged \n"
          ],
          "name": "stdout"
        }
      ]
    },
    {
      "cell_type": "markdown",
      "metadata": {
        "id": "C_oe8Tgnpnaq",
        "colab_type": "text"
      },
      "source": [
        "# Tokenization"
      ]
    },
    {
      "cell_type": "code",
      "metadata": {
        "id": "eUkN_WpXpB5g",
        "colab_type": "code",
        "colab": {}
      },
      "source": [
        "# encode the text and map each character to an integer and vice versa\n",
        "\n",
        "# we create two dictionaries:\n",
        "# 1. int2char, which maps integers to characters\n",
        "# 2. char2int, which maps characters to unique integers\n",
        "chars = tuple(set(text))\n",
        "int2char = dict(enumerate(chars))\n",
        "char2int = {ch: ii for ii, ch in int2char.items()}\n",
        "\n",
        "# encode the text\n",
        "encoded = np.array([char2int[ch] for ch in text])"
      ],
      "execution_count": 0,
      "outputs": []
    },
    {
      "cell_type": "markdown",
      "metadata": {
        "id": "MhHfm_Zkpa20",
        "colab_type": "text"
      },
      "source": [
        "We can see the encoded characters :"
      ]
    },
    {
      "cell_type": "code",
      "metadata": {
        "id": "snB8Y2QepflM",
        "colab_type": "code",
        "colab": {
          "base_uri": "https://localhost:8080/",
          "height": 119
        },
        "outputId": "07eecadd-4b39-4ee4-f7d0-f7ed1f041395"
      },
      "source": [
        "encoded[:100]"
      ],
      "execution_count": 5,
      "outputs": [
        {
          "output_type": "execute_result",
          "data": {
            "text/plain": [
              "array([49, 69, 22, 32, 53, 42, 93, 37, 93, 86, 50, 22, 37, 40, 12, 26, 59,\n",
              "       37, 93, 69, 37, 40, 86, 50, 22, 37, 40, 22, 37, 59, 86, 79, 79,  5,\n",
              "       55, 21, 53, 97, 37, 40, 86, 50, 22, 37, 40, 22, 37, 32, 40, 76, 29,\n",
              "       22, 37, 85, 76, 93, 59, 37,  4, 29, 22, 22, 37, 55, 28, 22, 52, 22,\n",
              "       90, 37, 53, 22, 52, 22, 90, 37, 85, 76, 29, 29, 37, 89, 37, 41, 22,\n",
              "       22, 29, 37, 97, 76, 32, 26, 69, 12, 90, 86,  4, 22, 97, 37])"
            ]
          },
          "metadata": {
            "tags": []
          },
          "execution_count": 5
        }
      ]
    },
    {
      "cell_type": "markdown",
      "metadata": {
        "id": "SV3sbad6ptyL",
        "colab_type": "text"
      },
      "source": [
        "# Pre-Processing"
      ]
    },
    {
      "cell_type": "code",
      "metadata": {
        "id": "exYclZh8p0PE",
        "colab_type": "code",
        "colab": {}
      },
      "source": [
        "def one_hot_encode(arr, n_labels):\n",
        "    \n",
        "    # Initialize the the encoded array\n",
        "    one_hot = np.zeros((arr.size, n_labels), dtype=np.float32)\n",
        "    \n",
        "    # Fill the appropriate elements with ones\n",
        "    one_hot[np.arange(one_hot.shape[0]), arr.flatten()] = 1.\n",
        "    \n",
        "    # Finally reshape it to get back to the original array\n",
        "    one_hot = one_hot.reshape((*arr.shape, n_labels))\n",
        "    \n",
        "    return one_hot"
      ],
      "execution_count": 0,
      "outputs": []
    },
    {
      "cell_type": "markdown",
      "metadata": {
        "id": "xc3gPMgvqM2a",
        "colab_type": "text"
      },
      "source": [
        "# Making training mini-batches"
      ]
    },
    {
      "cell_type": "code",
      "metadata": {
        "id": "Xg2dW51CqPr-",
        "colab_type": "code",
        "colab": {}
      },
      "source": [
        "def get_batches(arr, batch_size, seq_length):\n",
        "    '''Create a generator that returns batches of size\n",
        "       batch_size x seq_length from arr.\n",
        "       \n",
        "       Arguments\n",
        "       ---------\n",
        "       arr: Array you want to make batches from\n",
        "       batch_size: Batch size, the number of sequences per batch\n",
        "       seq_length: Number of encoded chars in a sequence\n",
        "    '''\n",
        "    \n",
        "    ## Get the number of batches we can make\n",
        "    n_batches = len(arr) // (batch_size * seq_length)\n",
        "    \n",
        "    ## Keep only enough characters to make full batches\n",
        "    arr = arr[:(n_batches * batch_size * seq_length)]\n",
        "    \n",
        "    ## Reshape into batch_size rows\n",
        "    arr = arr.reshape(batch_size, (n_batches * seq_length))\n",
        "    \n",
        "    ## Iterate over the batches using a window of size seq_length\n",
        "    for n in range(0, arr.shape[1], seq_length):\n",
        "        # The features\n",
        "        x = arr[:, n:n+seq_length]\n",
        "        # The targets, shifted by one\n",
        "        y = np.zeros_like(x)\n",
        "        try:\n",
        "            y[:, :-1], y[:, -1] = x[:, 1:], arr[:, n+seq_length]\n",
        "        except IndexError:\n",
        "            y[:, :-1], y[:, -1] = x[:, 1:], arr[:, 0]\n",
        "        yield x, y"
      ],
      "execution_count": 0,
      "outputs": []
    },
    {
      "cell_type": "markdown",
      "metadata": {
        "id": "YlDvGnwrrnjA",
        "colab_type": "text"
      },
      "source": [
        "# Defining the network"
      ]
    },
    {
      "cell_type": "code",
      "metadata": {
        "id": "cDP5jSjFqqEK",
        "colab_type": "code",
        "colab": {
          "base_uri": "https://localhost:8080/",
          "height": 34
        },
        "outputId": "c5db97b9-f82d-4e99-e8fb-b6075b61de11"
      },
      "source": [
        "# check if GPU is available\n",
        "train_on_gpu = torch.cuda.is_available()\n",
        "if(train_on_gpu):\n",
        "    print('Training on GPU!')\n",
        "else: \n",
        "    print('No GPU available, training on CPU; consider making n_epochs very small.')"
      ],
      "execution_count": 8,
      "outputs": [
        {
          "output_type": "stream",
          "text": [
            "Training on GPU!\n"
          ],
          "name": "stdout"
        }
      ]
    },
    {
      "cell_type": "code",
      "metadata": {
        "id": "d3gH3n5irsm1",
        "colab_type": "code",
        "colab": {}
      },
      "source": [
        "class SongRNN(nn.Module):\n",
        "    \n",
        "    def __init__(self, tokens, n_hidden=256, n_layers=2,\n",
        "                               drop_prob=0.5, lr=0.001):\n",
        "        super().__init__()\n",
        "        self.drop_prob = drop_prob\n",
        "        self.n_layers = n_layers\n",
        "        self.n_hidden = n_hidden\n",
        "        self.lr = lr\n",
        "        \n",
        "        # creating character dictionaries\n",
        "        self.chars = tokens\n",
        "        self.int2char = dict(enumerate(self.chars))\n",
        "        self.char2int = {ch: ii for ii, ch in self.int2char.items()}\n",
        "        \n",
        "        ## define the layers of the model\n",
        "        self.lstm = nn.LSTM(input_size=len(tokens), hidden_size=self.n_hidden, num_layers=self.n_layers, bias=True, batch_first=True, dropout=self.drop_prob)\n",
        "        self.fc = nn.Linear(self.n_hidden, len(tokens))\n",
        "        self.dropout = nn.Dropout(drop_prob)\n",
        "    \n",
        "    def forward(self, x, hidden):\n",
        "        ''' Forward pass through the network. \n",
        "            These inputs are x, and the hidden/cell state `hidden`. '''\n",
        "                \n",
        "        ## Get the outputs and the new hidden state from the lstm\n",
        "        r_out, hidden = self.lstm(x, hidden)\n",
        "        out = self.dropout(r_out)\n",
        "        out = out.contiguous().view(-1, self.n_hidden)\n",
        "        out = self.fc(out)  \n",
        "\n",
        "        # return the final output and the hidden state\n",
        "        return out, hidden\n",
        "    \n",
        "    \n",
        "    def init_hidden(self, batch_size):\n",
        "        ''' Initializes hidden state '''\n",
        "        # Create two new tensors with sizes n_layers x batch_size x n_hidden,\n",
        "        # initialized to zero, for hidden state and cell state of LSTM\n",
        "        weight = next(self.parameters()).data\n",
        "        \n",
        "        hidden = (weight.new(self.n_layers, batch_size, self.n_hidden).zero_().cuda(),\n",
        "                  weight.new(self.n_layers, batch_size, self.n_hidden).zero_().cuda())\n",
        "        \n",
        "        return hidden"
      ],
      "execution_count": 0,
      "outputs": []
    },
    {
      "cell_type": "markdown",
      "metadata": {
        "id": "JOG-XQuvsaSo",
        "colab_type": "text"
      },
      "source": [
        "# Train the RNN"
      ]
    },
    {
      "cell_type": "code",
      "metadata": {
        "id": "f2LoFx21sEWd",
        "colab_type": "code",
        "colab": {}
      },
      "source": [
        "def train(net, data, epochs=10, batch_size=10, seq_length=50, lr=0.001, clip=5, val_frac=0.1, print_every=10):\n",
        "    ''' Training a network \n",
        "    \n",
        "        Arguments\n",
        "        ---------\n",
        "        \n",
        "        net: CharRNN network\n",
        "        data: text data to train the network\n",
        "        epochs: Number of epochs to train\n",
        "        batch_size: Number of mini-sequences per mini-batch, aka batch size\n",
        "        seq_length: Number of character steps per mini-batch\n",
        "        lr: learning rate\n",
        "        clip: gradient clipping\n",
        "        val_frac: Fraction of data to hold out for validation\n",
        "        print_every: Number of steps for printing training and validation loss\n",
        "    \n",
        "    '''\n",
        "    net.train()\n",
        "    \n",
        "    opt = torch.optim.Adam(net.parameters(), lr=lr)\n",
        "    criterion = nn.CrossEntropyLoss()\n",
        "    \n",
        "    # create training and validation data\n",
        "    val_idx = int(len(data)*(1-val_frac))\n",
        "    data, val_data = data[:val_idx], data[val_idx:]\n",
        "    \n",
        "    net.cuda()\n",
        "    \n",
        "    counter = 0\n",
        "    n_chars = len(net.chars)\n",
        "    min_validation_loss = float('inf')\n",
        "    for e in range(epochs):\n",
        "        # initialize hidden state\n",
        "        h = net.init_hidden(batch_size)\n",
        "        \n",
        "        for x, y in get_batches(data, batch_size, seq_length):\n",
        "            counter += 1\n",
        "            \n",
        "            # One-hot encode our data and make them Torch tensors\n",
        "            x = one_hot_encode(x, n_chars)\n",
        "            inputs, targets = torch.from_numpy(x), torch.from_numpy(y)\n",
        "            \n",
        "            inputs, targets = inputs.cuda(), targets.cuda()\n",
        "\n",
        "            # Creating new variables for the hidden state, otherwise\n",
        "            # we'd backprop through the entire training history\n",
        "            h = tuple([each.data for each in h])\n",
        "\n",
        "            # zero accumulated gradients\n",
        "            net.zero_grad()\n",
        "            \n",
        "            # get the output from the model\n",
        "            output, h = net(inputs, h)\n",
        "            \n",
        "            # calculate the loss and perform backprop\n",
        "            loss = criterion(output, targets.view(batch_size*seq_length).long())\n",
        "            loss.backward()\n",
        "            # `clip_grad_norm` helps prevent the exploding gradient problem in RNNs / LSTMs.\n",
        "            nn.utils.clip_grad_norm_(net.parameters(), clip)\n",
        "            opt.step()\n",
        "            \n",
        "            # loss stats\n",
        "            if counter % print_every == 0:\n",
        "                # Get validation loss\n",
        "                val_h = net.init_hidden(batch_size)\n",
        "                val_losses = []\n",
        "                net.eval()\n",
        "                for x, y in get_batches(val_data, batch_size, seq_length):\n",
        "                    # One-hot encode our data and make them Torch tensors\n",
        "                    x = one_hot_encode(x, n_chars)\n",
        "                    x, y = torch.from_numpy(x), torch.from_numpy(y)\n",
        "                    \n",
        "                    # Creating new variables for the hidden state, otherwise\n",
        "                    # we'd backprop through the entire training history\n",
        "                    val_h = tuple([each.data for each in val_h])\n",
        "                    \n",
        "                    inputs, targets = x, y\n",
        "                    inputs, targets = inputs.cuda(), targets.cuda()\n",
        "\n",
        "                    output, val_h = net(inputs, val_h)\n",
        "                    val_loss = criterion(output, targets.view(batch_size*seq_length).long())\n",
        "                    val_losses.append(val_loss.item())\n",
        "                \n",
        "                net.train() # reset to train mode after iterationg through validation data\n",
        "                \n",
        "                avg_validation_loss = np.mean(val_losses)\n",
        "                if avg_validation_loss < min_validation_loss:\n",
        "                    print(\"min_validation_loss update:\", min_validation_loss, \"-->\", avg_validation_loss)\n",
        "                    min_validation_loss = avg_validation_loss\n",
        "                    torch.save(net.state_dict(), 'Love_Song_model.pth')\n",
        "                print(\"Epoch: {}/{}...\".format(e+1, epochs),\n",
        "                      \"Step: {}...\".format(counter),\n",
        "                      \"Loss: {:.4f}...\".format(loss.item()),\n",
        "                      \"Val Loss: {:.4f}\".format(avg_validation_loss))"
      ],
      "execution_count": 0,
      "outputs": []
    },
    {
      "cell_type": "markdown",
      "metadata": {
        "id": "fcjfBfH3soAn",
        "colab_type": "text"
      },
      "source": [
        "# Instantiating the model"
      ]
    },
    {
      "cell_type": "code",
      "metadata": {
        "id": "O_dNml6Ssjse",
        "colab_type": "code",
        "colab": {
          "base_uri": "https://localhost:8080/",
          "height": 102
        },
        "outputId": "a78c056d-a7e5-4a33-df8f-b894f4cf7432"
      },
      "source": [
        "# define and print the net\n",
        "n_hidden=512\n",
        "n_layers=2\n",
        "\n",
        "net = SongRNN(chars, n_hidden, n_layers)\n",
        "print(net)"
      ],
      "execution_count": 13,
      "outputs": [
        {
          "output_type": "stream",
          "text": [
            "SongRNN(\n",
            "  (lstm): LSTM(99, 512, num_layers=2, batch_first=True, dropout=0.5)\n",
            "  (fc): Linear(in_features=512, out_features=99, bias=True)\n",
            "  (dropout): Dropout(p=0.5, inplace=False)\n",
            ")\n"
          ],
          "name": "stdout"
        }
      ]
    },
    {
      "cell_type": "markdown",
      "metadata": {
        "id": "B0NUrBhusyiZ",
        "colab_type": "text"
      },
      "source": [
        "# Set the training hyperparameters!"
      ]
    },
    {
      "cell_type": "code",
      "metadata": {
        "id": "sl4kC4CCssqj",
        "colab_type": "code",
        "colab": {
          "base_uri": "https://localhost:8080/",
          "height": 1000
        },
        "outputId": "973bb94d-f141-4940-c5ff-790abd9eb3ce"
      },
      "source": [
        "batch_size = 128\n",
        "seq_length = 100\n",
        "n_epochs = 30\n",
        "\n",
        "# train the model\n",
        "train(net, encoded, epochs=n_epochs, batch_size=batch_size, seq_length=seq_length, lr=0.001, print_every=10)"
      ],
      "execution_count": 14,
      "outputs": [
        {
          "output_type": "stream",
          "text": [
            "min_validation_loss update: inf --> 3.3208765983581543\n",
            "Epoch: 1/30... Step: 10... Loss: 3.3307... Val Loss: 3.3209\n",
            "min_validation_loss update: 3.3208765983581543 --> 3.2115494864327565\n",
            "Epoch: 1/30... Step: 20... Loss: 3.2202... Val Loss: 3.2115\n",
            "min_validation_loss update: 3.2115494864327565 --> 3.2022481645856584\n",
            "Epoch: 1/30... Step: 30... Loss: 3.1878... Val Loss: 3.2022\n",
            "min_validation_loss update: 3.2022481645856584 --> 3.197141374860491\n",
            "Epoch: 1/30... Step: 40... Loss: 3.1674... Val Loss: 3.1971\n",
            "Epoch: 1/30... Step: 50... Loss: 3.1379... Val Loss: 3.1976\n",
            "Epoch: 1/30... Step: 60... Loss: 3.1586... Val Loss: 3.1974\n",
            "min_validation_loss update: 3.197141374860491 --> 3.1939898899623325\n",
            "Epoch: 2/30... Step: 70... Loss: 3.1520... Val Loss: 3.1940\n",
            "min_validation_loss update: 3.1939898899623325 --> 3.191684212003435\n",
            "Epoch: 2/30... Step: 80... Loss: 3.1446... Val Loss: 3.1917\n",
            "min_validation_loss update: 3.191684212003435 --> 3.1891769681658064\n",
            "Epoch: 2/30... Step: 90... Loss: 3.1344... Val Loss: 3.1892\n",
            "min_validation_loss update: 3.1891769681658064 --> 3.184122766767229\n",
            "Epoch: 2/30... Step: 100... Loss: 3.1226... Val Loss: 3.1841\n",
            "min_validation_loss update: 3.184122766767229 --> 3.174750736781529\n",
            "Epoch: 2/30... Step: 110... Loss: 3.1259... Val Loss: 3.1748\n",
            "min_validation_loss update: 3.174750736781529 --> 3.154991728918893\n",
            "Epoch: 2/30... Step: 120... Loss: 3.0843... Val Loss: 3.1550\n",
            "min_validation_loss update: 3.154991728918893 --> 3.0981876850128174\n",
            "Epoch: 3/30... Step: 130... Loss: 3.0524... Val Loss: 3.0982\n",
            "min_validation_loss update: 3.0981876850128174 --> 2.9993886607033864\n",
            "Epoch: 3/30... Step: 140... Loss: 2.9778... Val Loss: 2.9994\n",
            "min_validation_loss update: 2.9993886607033864 --> 2.9004396370479038\n",
            "Epoch: 3/30... Step: 150... Loss: 2.9671... Val Loss: 2.9004\n",
            "min_validation_loss update: 2.9004396370479038 --> 2.8237678664071217\n",
            "Epoch: 3/30... Step: 160... Loss: 2.7680... Val Loss: 2.8238\n",
            "min_validation_loss update: 2.8237678664071217 --> 2.727125780923026\n",
            "Epoch: 3/30... Step: 170... Loss: 2.6603... Val Loss: 2.7271\n",
            "min_validation_loss update: 2.727125780923026 --> 2.6635444504874095\n",
            "Epoch: 3/30... Step: 180... Loss: 2.5867... Val Loss: 2.6635\n",
            "min_validation_loss update: 2.6635444504874095 --> 2.6033540793827603\n",
            "Epoch: 4/30... Step: 190... Loss: 2.5849... Val Loss: 2.6034\n",
            "min_validation_loss update: 2.6033540793827603 --> 2.5477165154048373\n",
            "Epoch: 4/30... Step: 200... Loss: 2.4930... Val Loss: 2.5477\n",
            "min_validation_loss update: 2.5477165154048373 --> 2.4892855371747697\n",
            "Epoch: 4/30... Step: 210... Loss: 2.4293... Val Loss: 2.4893\n",
            "min_validation_loss update: 2.4892855371747697 --> 2.4502262387956892\n",
            "Epoch: 4/30... Step: 220... Loss: 2.3298... Val Loss: 2.4502\n",
            "min_validation_loss update: 2.4502262387956892 --> 2.4211805888584683\n",
            "Epoch: 4/30... Step: 230... Loss: 2.3352... Val Loss: 2.4212\n",
            "min_validation_loss update: 2.4211805888584683 --> 2.3859670162200928\n",
            "Epoch: 4/30... Step: 240... Loss: 2.2446... Val Loss: 2.3860\n",
            "min_validation_loss update: 2.3859670162200928 --> 2.356349536350795\n",
            "Epoch: 4/30... Step: 250... Loss: 2.2504... Val Loss: 2.3563\n",
            "min_validation_loss update: 2.356349536350795 --> 2.330839123044695\n",
            "Epoch: 5/30... Step: 260... Loss: 2.2069... Val Loss: 2.3308\n",
            "min_validation_loss update: 2.330839123044695 --> 2.2999325479779924\n",
            "Epoch: 5/30... Step: 270... Loss: 2.1908... Val Loss: 2.2999\n",
            "min_validation_loss update: 2.2999325479779924 --> 2.279369762965611\n",
            "Epoch: 5/30... Step: 280... Loss: 2.1824... Val Loss: 2.2794\n",
            "min_validation_loss update: 2.279369762965611 --> 2.2506631442478726\n",
            "Epoch: 5/30... Step: 290... Loss: 2.1780... Val Loss: 2.2507\n",
            "min_validation_loss update: 2.2506631442478726 --> 2.2315894876207625\n",
            "Epoch: 5/30... Step: 300... Loss: 2.1027... Val Loss: 2.2316\n",
            "min_validation_loss update: 2.2315894876207625 --> 2.204606430871146\n",
            "Epoch: 5/30... Step: 310... Loss: 2.0872... Val Loss: 2.2046\n",
            "min_validation_loss update: 2.204606430871146 --> 2.1796393053872243\n",
            "Epoch: 6/30... Step: 320... Loss: 2.0791... Val Loss: 2.1796\n",
            "min_validation_loss update: 2.1796393053872243 --> 2.1550001757485524\n",
            "Epoch: 6/30... Step: 330... Loss: 2.0522... Val Loss: 2.1550\n",
            "min_validation_loss update: 2.1550001757485524 --> 2.138302666800363\n",
            "Epoch: 6/30... Step: 340... Loss: 2.0195... Val Loss: 2.1383\n",
            "min_validation_loss update: 2.138302666800363 --> 2.1147942883627757\n",
            "Epoch: 6/30... Step: 350... Loss: 2.0256... Val Loss: 2.1148\n",
            "min_validation_loss update: 2.1147942883627757 --> 2.1034349714006697\n",
            "Epoch: 6/30... Step: 360... Loss: 1.9610... Val Loss: 2.1034\n",
            "min_validation_loss update: 2.1034349714006697 --> 2.0908349582127164\n",
            "Epoch: 6/30... Step: 370... Loss: 1.9382... Val Loss: 2.0908\n",
            "min_validation_loss update: 2.0908349582127164 --> 2.0630583422524587\n",
            "Epoch: 7/30... Step: 380... Loss: 1.9911... Val Loss: 2.0631\n",
            "min_validation_loss update: 2.0630583422524587 --> 2.0434302943093434\n",
            "Epoch: 7/30... Step: 390... Loss: 1.9354... Val Loss: 2.0434\n",
            "min_validation_loss update: 2.0434302943093434 --> 2.028063075883048\n",
            "Epoch: 7/30... Step: 400... Loss: 1.8716... Val Loss: 2.0281\n",
            "min_validation_loss update: 2.028063075883048 --> 2.0191877569471086\n",
            "Epoch: 7/30... Step: 410... Loss: 1.8803... Val Loss: 2.0192\n",
            "min_validation_loss update: 2.0191877569471086 --> 2.004463246890477\n",
            "Epoch: 7/30... Step: 420... Loss: 1.8934... Val Loss: 2.0045\n",
            "min_validation_loss update: 2.004463246890477 --> 1.9858073677335466\n",
            "Epoch: 7/30... Step: 430... Loss: 1.8665... Val Loss: 1.9858\n",
            "min_validation_loss update: 1.9858073677335466 --> 1.973533068384443\n",
            "Epoch: 7/30... Step: 440... Loss: 1.8242... Val Loss: 1.9735\n",
            "min_validation_loss update: 1.973533068384443 --> 1.9595162187303816\n",
            "Epoch: 8/30... Step: 450... Loss: 1.8499... Val Loss: 1.9595\n",
            "min_validation_loss update: 1.9595162187303816 --> 1.9506029742104667\n",
            "Epoch: 8/30... Step: 460... Loss: 1.8155... Val Loss: 1.9506\n",
            "min_validation_loss update: 1.9506029742104667 --> 1.9349290132522583\n",
            "Epoch: 8/30... Step: 470... Loss: 1.7998... Val Loss: 1.9349\n",
            "min_validation_loss update: 1.9349290132522583 --> 1.9236146381923132\n",
            "Epoch: 8/30... Step: 480... Loss: 1.7548... Val Loss: 1.9236\n",
            "min_validation_loss update: 1.9236146381923132 --> 1.9142498799732752\n",
            "Epoch: 8/30... Step: 490... Loss: 1.7686... Val Loss: 1.9142\n",
            "min_validation_loss update: 1.9142498799732752 --> 1.9071789469037737\n",
            "Epoch: 8/30... Step: 500... Loss: 1.8049... Val Loss: 1.9072\n",
            "min_validation_loss update: 1.9071789469037737 --> 1.8945472070149012\n",
            "Epoch: 9/30... Step: 510... Loss: 1.7523... Val Loss: 1.8945\n",
            "min_validation_loss update: 1.8945472070149012 --> 1.8790182897022791\n",
            "Epoch: 9/30... Step: 520... Loss: 1.7415... Val Loss: 1.8790\n",
            "min_validation_loss update: 1.8790182897022791 --> 1.8710813862936837\n",
            "Epoch: 9/30... Step: 530... Loss: 1.6958... Val Loss: 1.8711\n",
            "min_validation_loss update: 1.8710813862936837 --> 1.8621386630194527\n",
            "Epoch: 9/30... Step: 540... Loss: 1.7208... Val Loss: 1.8621\n",
            "min_validation_loss update: 1.8621386630194527 --> 1.8525510345186507\n",
            "Epoch: 9/30... Step: 550... Loss: 1.7035... Val Loss: 1.8526\n",
            "min_validation_loss update: 1.8525510345186507 --> 1.8494758946555\n",
            "Epoch: 9/30... Step: 560... Loss: 1.7067... Val Loss: 1.8495\n",
            "min_validation_loss update: 1.8494758946555 --> 1.8431192466190882\n",
            "Epoch: 10/30... Step: 570... Loss: 1.7219... Val Loss: 1.8431\n",
            "min_validation_loss update: 1.8431192466190882 --> 1.8286568437303816\n",
            "Epoch: 10/30... Step: 580... Loss: 1.6989... Val Loss: 1.8287\n",
            "min_validation_loss update: 1.8286568437303816 --> 1.8176125288009644\n",
            "Epoch: 10/30... Step: 590... Loss: 1.7110... Val Loss: 1.8176\n",
            "min_validation_loss update: 1.8176125288009644 --> 1.8126443454197474\n",
            "Epoch: 10/30... Step: 600... Loss: 1.6475... Val Loss: 1.8126\n",
            "min_validation_loss update: 1.8126443454197474 --> 1.801266006061009\n",
            "Epoch: 10/30... Step: 610... Loss: 1.6752... Val Loss: 1.8013\n",
            "min_validation_loss update: 1.801266006061009 --> 1.7969536100115096\n",
            "Epoch: 10/30... Step: 620... Loss: 1.6597... Val Loss: 1.7970\n",
            "min_validation_loss update: 1.7969536100115096 --> 1.7912792137690954\n",
            "Epoch: 10/30... Step: 630... Loss: 1.6755... Val Loss: 1.7913\n",
            "min_validation_loss update: 1.7912792137690954 --> 1.7816298007965088\n",
            "Epoch: 11/30... Step: 640... Loss: 1.6772... Val Loss: 1.7816\n",
            "min_validation_loss update: 1.7816298007965088 --> 1.7795925651277815\n",
            "Epoch: 11/30... Step: 650... Loss: 1.6366... Val Loss: 1.7796\n",
            "min_validation_loss update: 1.7795925651277815 --> 1.7699606588908605\n",
            "Epoch: 11/30... Step: 660... Loss: 1.5791... Val Loss: 1.7700\n",
            "min_validation_loss update: 1.7699606588908605 --> 1.7617990289415633\n",
            "Epoch: 11/30... Step: 670... Loss: 1.6464... Val Loss: 1.7618\n",
            "min_validation_loss update: 1.7617990289415633 --> 1.7617942605699812\n",
            "Epoch: 11/30... Step: 680... Loss: 1.6085... Val Loss: 1.7618\n",
            "min_validation_loss update: 1.7617942605699812 --> 1.7540037631988525\n",
            "Epoch: 11/30... Step: 690... Loss: 1.6223... Val Loss: 1.7540\n",
            "Epoch: 12/30... Step: 700... Loss: 1.6256... Val Loss: 1.7546\n",
            "min_validation_loss update: 1.7540037631988525 --> 1.7429002523422241\n",
            "Epoch: 12/30... Step: 710... Loss: 1.5749... Val Loss: 1.7429\n",
            "min_validation_loss update: 1.7429002523422241 --> 1.7353355714253016\n",
            "Epoch: 12/30... Step: 720... Loss: 1.5779... Val Loss: 1.7353\n",
            "min_validation_loss update: 1.7353355714253016 --> 1.7270128045763289\n",
            "Epoch: 12/30... Step: 730... Loss: 1.5769... Val Loss: 1.7270\n",
            "min_validation_loss update: 1.7270128045763289 --> 1.7247651815414429\n",
            "Epoch: 12/30... Step: 740... Loss: 1.5901... Val Loss: 1.7248\n",
            "min_validation_loss update: 1.7247651815414429 --> 1.7193535225731986\n",
            "Epoch: 12/30... Step: 750... Loss: 1.5734... Val Loss: 1.7194\n",
            "min_validation_loss update: 1.7193535225731986 --> 1.7123203447886877\n",
            "Epoch: 13/30... Step: 760... Loss: 1.5742... Val Loss: 1.7123\n",
            "min_validation_loss update: 1.7123203447886877 --> 1.7036836317607336\n",
            "Epoch: 13/30... Step: 770... Loss: 1.5710... Val Loss: 1.7037\n",
            "min_validation_loss update: 1.7036836317607336 --> 1.7013550996780396\n",
            "Epoch: 13/30... Step: 780... Loss: 1.5599... Val Loss: 1.7014\n",
            "min_validation_loss update: 1.7013550996780396 --> 1.7007052046912057\n",
            "Epoch: 13/30... Step: 790... Loss: 1.5332... Val Loss: 1.7007\n",
            "min_validation_loss update: 1.7007052046912057 --> 1.6905202184404646\n",
            "Epoch: 13/30... Step: 800... Loss: 1.5258... Val Loss: 1.6905\n",
            "Epoch: 13/30... Step: 810... Loss: 1.5324... Val Loss: 1.6920\n",
            "min_validation_loss update: 1.6905202184404646 --> 1.6852017981665475\n",
            "Epoch: 14/30... Step: 820... Loss: 1.5899... Val Loss: 1.6852\n",
            "min_validation_loss update: 1.6852017981665475 --> 1.6726566893713815\n",
            "Epoch: 14/30... Step: 830... Loss: 1.5344... Val Loss: 1.6727\n",
            "Epoch: 14/30... Step: 840... Loss: 1.4995... Val Loss: 1.6762\n",
            "min_validation_loss update: 1.6726566893713815 --> 1.6661794185638428\n",
            "Epoch: 14/30... Step: 850... Loss: 1.4706... Val Loss: 1.6662\n",
            "min_validation_loss update: 1.6661794185638428 --> 1.6646461486816406\n",
            "Epoch: 14/30... Step: 860... Loss: 1.5061... Val Loss: 1.6646\n",
            "min_validation_loss update: 1.6646461486816406 --> 1.6593400069645472\n",
            "Epoch: 14/30... Step: 870... Loss: 1.4770... Val Loss: 1.6593\n",
            "min_validation_loss update: 1.6593400069645472 --> 1.6580606869288854\n",
            "Epoch: 14/30... Step: 880... Loss: 1.5062... Val Loss: 1.6581\n",
            "min_validation_loss update: 1.6580606869288854 --> 1.6559152603149414\n",
            "Epoch: 15/30... Step: 890... Loss: 1.4923... Val Loss: 1.6559\n",
            "min_validation_loss update: 1.6559152603149414 --> 1.6543068034308297\n",
            "Epoch: 15/30... Step: 900... Loss: 1.4424... Val Loss: 1.6543\n",
            "min_validation_loss update: 1.6543068034308297 --> 1.6460506405149187\n",
            "Epoch: 15/30... Step: 910... Loss: 1.4918... Val Loss: 1.6461\n",
            "min_validation_loss update: 1.6460506405149187 --> 1.6421028545924596\n",
            "Epoch: 15/30... Step: 920... Loss: 1.4877... Val Loss: 1.6421\n",
            "min_validation_loss update: 1.6421028545924596 --> 1.6397048575537545\n",
            "Epoch: 15/30... Step: 930... Loss: 1.4844... Val Loss: 1.6397\n",
            "min_validation_loss update: 1.6397048575537545 --> 1.6379075050354004\n",
            "Epoch: 15/30... Step: 940... Loss: 1.4634... Val Loss: 1.6379\n",
            "min_validation_loss update: 1.6379075050354004 --> 1.6266777515411377\n",
            "Epoch: 16/30... Step: 950... Loss: 1.4580... Val Loss: 1.6267\n",
            "min_validation_loss update: 1.6266777515411377 --> 1.6253852163042342\n",
            "Epoch: 16/30... Step: 960... Loss: 1.4770... Val Loss: 1.6254\n",
            "min_validation_loss update: 1.6253852163042342 --> 1.6220015968595232\n",
            "Epoch: 16/30... Step: 970... Loss: 1.4510... Val Loss: 1.6220\n",
            "min_validation_loss update: 1.6220015968595232 --> 1.6200073276247298\n",
            "Epoch: 16/30... Step: 980... Loss: 1.4640... Val Loss: 1.6200\n",
            "min_validation_loss update: 1.6200073276247298 --> 1.6147513730185372\n",
            "Epoch: 16/30... Step: 990... Loss: 1.4289... Val Loss: 1.6148\n",
            "Epoch: 16/30... Step: 1000... Loss: 1.4233... Val Loss: 1.6214\n",
            "min_validation_loss update: 1.6147513730185372 --> 1.6121593884059362\n",
            "Epoch: 17/30... Step: 1010... Loss: 1.4921... Val Loss: 1.6122\n",
            "min_validation_loss update: 1.6121593884059362 --> 1.6001629148210799\n",
            "Epoch: 17/30... Step: 1020... Loss: 1.4349... Val Loss: 1.6002\n",
            "Epoch: 17/30... Step: 1030... Loss: 1.4025... Val Loss: 1.6046\n",
            "Epoch: 17/30... Step: 1040... Loss: 1.4158... Val Loss: 1.6004\n",
            "min_validation_loss update: 1.6001629148210799 --> 1.600145356995719\n",
            "Epoch: 17/30... Step: 1050... Loss: 1.4436... Val Loss: 1.6001\n",
            "min_validation_loss update: 1.600145356995719 --> 1.5893112761633736\n",
            "Epoch: 17/30... Step: 1060... Loss: 1.4220... Val Loss: 1.5893\n",
            "Epoch: 17/30... Step: 1070... Loss: 1.3914... Val Loss: 1.5955\n",
            "min_validation_loss update: 1.5893112761633736 --> 1.584111179624285\n",
            "Epoch: 18/30... Step: 1080... Loss: 1.4112... Val Loss: 1.5841\n",
            "Epoch: 18/30... Step: 1090... Loss: 1.3854... Val Loss: 1.5918\n",
            "min_validation_loss update: 1.584111179624285 --> 1.58076126234872\n",
            "Epoch: 18/30... Step: 1100... Loss: 1.4092... Val Loss: 1.5808\n",
            "Epoch: 18/30... Step: 1110... Loss: 1.3724... Val Loss: 1.5846\n",
            "min_validation_loss update: 1.58076126234872 --> 1.5750211477279663\n",
            "Epoch: 18/30... Step: 1120... Loss: 1.3950... Val Loss: 1.5750\n",
            "min_validation_loss update: 1.5750211477279663 --> 1.573013492992946\n",
            "Epoch: 18/30... Step: 1130... Loss: 1.4266... Val Loss: 1.5730\n",
            "min_validation_loss update: 1.573013492992946 --> 1.5698716470173426\n",
            "Epoch: 19/30... Step: 1140... Loss: 1.3719... Val Loss: 1.5699\n",
            "min_validation_loss update: 1.5698716470173426 --> 1.5681185722351074\n",
            "Epoch: 19/30... Step: 1150... Loss: 1.3862... Val Loss: 1.5681\n",
            "Epoch: 19/30... Step: 1160... Loss: 1.3437... Val Loss: 1.5697\n",
            "min_validation_loss update: 1.5681185722351074 --> 1.562874504498073\n",
            "Epoch: 19/30... Step: 1170... Loss: 1.3690... Val Loss: 1.5629\n",
            "Epoch: 19/30... Step: 1180... Loss: 1.3480... Val Loss: 1.5731\n",
            "Epoch: 19/30... Step: 1190... Loss: 1.3620... Val Loss: 1.5710\n",
            "min_validation_loss update: 1.562874504498073 --> 1.5610840661185128\n",
            "Epoch: 20/30... Step: 1200... Loss: 1.3993... Val Loss: 1.5611\n",
            "min_validation_loss update: 1.5610840661185128 --> 1.5536046368735177\n",
            "Epoch: 20/30... Step: 1210... Loss: 1.3582... Val Loss: 1.5536\n",
            "Epoch: 20/30... Step: 1220... Loss: 1.3655... Val Loss: 1.5602\n",
            "Epoch: 20/30... Step: 1230... Loss: 1.3337... Val Loss: 1.5611\n",
            "Epoch: 20/30... Step: 1240... Loss: 1.3580... Val Loss: 1.5543\n",
            "min_validation_loss update: 1.5536046368735177 --> 1.5455320903233118\n",
            "Epoch: 20/30... Step: 1250... Loss: 1.3635... Val Loss: 1.5455\n",
            "Epoch: 20/30... Step: 1260... Loss: 1.3809... Val Loss: 1.5466\n",
            "min_validation_loss update: 1.5455320903233118 --> 1.5451015404292516\n",
            "Epoch: 21/30... Step: 1270... Loss: 1.3721... Val Loss: 1.5451\n",
            "Epoch: 21/30... Step: 1280... Loss: 1.3270... Val Loss: 1.5477\n",
            "min_validation_loss update: 1.5451015404292516 --> 1.5352040188653129\n",
            "Epoch: 21/30... Step: 1290... Loss: 1.3135... Val Loss: 1.5352\n",
            "Epoch: 21/30... Step: 1300... Loss: 1.3478... Val Loss: 1.5421\n",
            "Epoch: 21/30... Step: 1310... Loss: 1.3318... Val Loss: 1.5403\n",
            "min_validation_loss update: 1.5352040188653129 --> 1.5272149358476912\n",
            "Epoch: 21/30... Step: 1320... Loss: 1.3493... Val Loss: 1.5272\n",
            "Epoch: 22/30... Step: 1330... Loss: 1.3419... Val Loss: 1.5383\n",
            "Epoch: 22/30... Step: 1340... Loss: 1.3014... Val Loss: 1.5325\n",
            "Epoch: 22/30... Step: 1350... Loss: 1.3124... Val Loss: 1.5329\n",
            "Epoch: 22/30... Step: 1360... Loss: 1.2940... Val Loss: 1.5315\n",
            "Epoch: 22/30... Step: 1370... Loss: 1.3426... Val Loss: 1.5346\n",
            "Epoch: 22/30... Step: 1380... Loss: 1.3060... Val Loss: 1.5298\n",
            "min_validation_loss update: 1.5272149358476912 --> 1.5212592056819372\n",
            "Epoch: 23/30... Step: 1390... Loss: 1.3343... Val Loss: 1.5213\n",
            "min_validation_loss update: 1.5212592056819372 --> 1.520861029624939\n",
            "Epoch: 23/30... Step: 1400... Loss: 1.3040... Val Loss: 1.5209\n",
            "Epoch: 23/30... Step: 1410... Loss: 1.2985... Val Loss: 1.5214\n",
            "Epoch: 23/30... Step: 1420... Loss: 1.2777... Val Loss: 1.5254\n",
            "min_validation_loss update: 1.520861029624939 --> 1.5150676454816545\n",
            "Epoch: 23/30... Step: 1430... Loss: 1.2784... Val Loss: 1.5151\n",
            "min_validation_loss update: 1.5150676454816545 --> 1.5124586820602417\n",
            "Epoch: 23/30... Step: 1440... Loss: 1.2960... Val Loss: 1.5125\n",
            "Epoch: 24/30... Step: 1450... Loss: 1.3495... Val Loss: 1.5176\n",
            "min_validation_loss update: 1.5124586820602417 --> 1.5124386378696986\n",
            "Epoch: 24/30... Step: 1460... Loss: 1.2842... Val Loss: 1.5124\n",
            "Epoch: 24/30... Step: 1470... Loss: 1.2561... Val Loss: 1.5174\n",
            "min_validation_loss update: 1.5124386378696986 --> 1.5085640464510237\n",
            "Epoch: 24/30... Step: 1480... Loss: 1.2597... Val Loss: 1.5086\n",
            "Epoch: 24/30... Step: 1490... Loss: 1.2782... Val Loss: 1.5138\n",
            "Epoch: 24/30... Step: 1500... Loss: 1.2551... Val Loss: 1.5110\n",
            "min_validation_loss update: 1.5085640464510237 --> 1.5026789052145821\n",
            "Epoch: 24/30... Step: 1510... Loss: 1.2803... Val Loss: 1.5027\n",
            "Epoch: 25/30... Step: 1520... Loss: 1.2603... Val Loss: 1.5141\n",
            "Epoch: 25/30... Step: 1530... Loss: 1.2079... Val Loss: 1.5143\n",
            "Epoch: 25/30... Step: 1540... Loss: 1.2712... Val Loss: 1.5109\n",
            "Epoch: 25/30... Step: 1550... Loss: 1.2562... Val Loss: 1.5059\n",
            "Epoch: 25/30... Step: 1560... Loss: 1.2688... Val Loss: 1.5053\n",
            "Epoch: 25/30... Step: 1570... Loss: 1.2451... Val Loss: 1.5072\n",
            "min_validation_loss update: 1.5026789052145821 --> 1.4987880672727312\n",
            "Epoch: 26/30... Step: 1580... Loss: 1.2396... Val Loss: 1.4988\n",
            "Epoch: 26/30... Step: 1590... Loss: 1.2557... Val Loss: 1.4999\n",
            "Epoch: 26/30... Step: 1600... Loss: 1.2434... Val Loss: 1.5037\n",
            "Epoch: 26/30... Step: 1610... Loss: 1.2470... Val Loss: 1.5058\n",
            "min_validation_loss update: 1.4987880672727312 --> 1.4930634498596191\n",
            "Epoch: 26/30... Step: 1620... Loss: 1.2259... Val Loss: 1.4931\n",
            "Epoch: 26/30... Step: 1630... Loss: 1.2261... Val Loss: 1.4966\n",
            "Epoch: 27/30... Step: 1640... Loss: 1.2795... Val Loss: 1.4968\n",
            "Epoch: 27/30... Step: 1650... Loss: 1.2258... Val Loss: 1.4932\n",
            "Epoch: 27/30... Step: 1660... Loss: 1.1931... Val Loss: 1.4953\n",
            "min_validation_loss update: 1.4930634498596191 --> 1.4895992960248674\n",
            "Epoch: 27/30... Step: 1670... Loss: 1.2358... Val Loss: 1.4896\n",
            "Epoch: 27/30... Step: 1680... Loss: 1.2458... Val Loss: 1.4931\n",
            "min_validation_loss update: 1.4895992960248674 --> 1.4886222396578108\n",
            "Epoch: 27/30... Step: 1690... Loss: 1.2259... Val Loss: 1.4886\n",
            "Epoch: 27/30... Step: 1700... Loss: 1.1967... Val Loss: 1.4899\n",
            "Epoch: 28/30... Step: 1710... Loss: 1.2217... Val Loss: 1.4963\n",
            "Epoch: 28/30... Step: 1720... Loss: 1.1900... Val Loss: 1.4994\n",
            "min_validation_loss update: 1.4886222396578108 --> 1.4880265508379256\n",
            "Epoch: 28/30... Step: 1730... Loss: 1.2137... Val Loss: 1.4880\n",
            "min_validation_loss update: 1.4880265508379256 --> 1.487505350794111\n",
            "Epoch: 28/30... Step: 1740... Loss: 1.1832... Val Loss: 1.4875\n",
            "min_validation_loss update: 1.487505350794111 --> 1.482948899269104\n",
            "Epoch: 28/30... Step: 1750... Loss: 1.2136... Val Loss: 1.4829\n",
            "Epoch: 28/30... Step: 1760... Loss: 1.2351... Val Loss: 1.4882\n",
            "min_validation_loss update: 1.482948899269104 --> 1.4825382913861955\n",
            "Epoch: 29/30... Step: 1770... Loss: 1.1658... Val Loss: 1.4825\n",
            "min_validation_loss update: 1.4825382913861955 --> 1.4776906285967146\n",
            "Epoch: 29/30... Step: 1780... Loss: 1.1941... Val Loss: 1.4777\n",
            "Epoch: 29/30... Step: 1790... Loss: 1.1589... Val Loss: 1.4873\n",
            "Epoch: 29/30... Step: 1800... Loss: 1.1785... Val Loss: 1.4917\n",
            "min_validation_loss update: 1.4776906285967146 --> 1.4751693861825126\n",
            "Epoch: 29/30... Step: 1810... Loss: 1.1760... Val Loss: 1.4752\n",
            "Epoch: 29/30... Step: 1820... Loss: 1.1694... Val Loss: 1.4846\n",
            "Epoch: 30/30... Step: 1830... Loss: 1.2237... Val Loss: 1.4829\n",
            "min_validation_loss update: 1.4751693861825126 --> 1.474090473992484\n",
            "Epoch: 30/30... Step: 1840... Loss: 1.1808... Val Loss: 1.4741\n",
            "Epoch: 30/30... Step: 1850... Loss: 1.1681... Val Loss: 1.4796\n",
            "Epoch: 30/30... Step: 1860... Loss: 1.1431... Val Loss: 1.4784\n",
            "Epoch: 30/30... Step: 1870... Loss: 1.1842... Val Loss: 1.4772\n",
            "Epoch: 30/30... Step: 1880... Loss: 1.1918... Val Loss: 1.4756\n",
            "Epoch: 30/30... Step: 1890... Loss: 1.2009... Val Loss: 1.4768\n"
          ],
          "name": "stdout"
        }
      ]
    },
    {
      "cell_type": "markdown",
      "metadata": {
        "id": "Wbi5vWUvu9XD",
        "colab_type": "text"
      },
      "source": [
        "# Checkpoint"
      ]
    },
    {
      "cell_type": "code",
      "metadata": {
        "id": "85hWU6FTs7v7",
        "colab_type": "code",
        "colab": {}
      },
      "source": [
        "# change the name, for saving multiple files\n",
        "model_name = 'rnn_love_song.net'\n",
        "\n",
        "checkpoint = {'n_hidden': net.n_hidden,\n",
        "              'n_layers': net.n_layers,\n",
        "              'state_dict': net.state_dict(),\n",
        "              'tokens': net.chars}\n",
        "\n",
        "with open(model_name, 'wb') as f:\n",
        "    torch.save(checkpoint, f)"
      ],
      "execution_count": 0,
      "outputs": []
    },
    {
      "cell_type": "markdown",
      "metadata": {
        "id": "87lsLTovvQob",
        "colab_type": "text"
      },
      "source": [
        "# Predictions"
      ]
    },
    {
      "cell_type": "code",
      "metadata": {
        "id": "Fvl5oTRuvOB6",
        "colab_type": "code",
        "colab": {}
      },
      "source": [
        "def predict(net, char, h=None, top_k=None):\n",
        "        ''' Given a character, predict the next character.\n",
        "            Returns the predicted character and the hidden state.\n",
        "        '''\n",
        "        \n",
        "        # tensor inputs\n",
        "        x = np.array([[net.char2int[char]]])\n",
        "        x = one_hot_encode(x, len(net.chars))\n",
        "        inputs = torch.from_numpy(x)\n",
        "        \n",
        "        if(train_on_gpu):\n",
        "            inputs = inputs.cuda()\n",
        "        \n",
        "        # detach hidden state from history\n",
        "        h = tuple([each.data for each in h])\n",
        "        # get the output of the model\n",
        "        out, h = net(inputs, h)\n",
        "\n",
        "        # get the character probabilities\n",
        "        p = F.softmax(out, dim=1).data\n",
        "        if(train_on_gpu):\n",
        "            p = p.cpu() # move to cpu\n",
        "        \n",
        "        # get top characters\n",
        "        if top_k is None:\n",
        "            top_ch = np.arange(len(net.chars))\n",
        "        else:\n",
        "            p, top_ch = p.topk(top_k)\n",
        "            top_ch = top_ch.numpy().squeeze()\n",
        "        \n",
        "        # select the likely next character with some element of randomness\n",
        "        p = p.numpy().squeeze()\n",
        "        char = np.random.choice(top_ch, p=p/p.sum())\n",
        "        \n",
        "        # return the encoded value of the predicted char and the hidden state\n",
        "        return net.int2char[char], h"
      ],
      "execution_count": 0,
      "outputs": []
    },
    {
      "cell_type": "markdown",
      "metadata": {
        "id": "1SGyCK7Yvh4Q",
        "colab_type": "text"
      },
      "source": [
        "# Priming and generating text "
      ]
    },
    {
      "cell_type": "code",
      "metadata": {
        "id": "mozmPB--vV4p",
        "colab_type": "code",
        "colab": {}
      },
      "source": [
        "def sample(net, size, prime='The', top_k=None):\n",
        "        \n",
        "    if(train_on_gpu):\n",
        "        net.cuda()\n",
        "    else:\n",
        "        net.cpu()\n",
        "    \n",
        "    net.eval() # eval mode\n",
        "    \n",
        "    # First off, run through the prime characters\n",
        "    chars = [ch for ch in prime]\n",
        "    h = net.init_hidden(1)\n",
        "    for ch in prime:\n",
        "        char, h = predict(net, ch, h, top_k=top_k)\n",
        "\n",
        "    chars.append(char)\n",
        "    \n",
        "    # Now pass in the previous character and get a new one\n",
        "    for ii in range(size):\n",
        "        char, h = predict(net, chars[-1], h, top_k=top_k)\n",
        "        chars.append(char)\n",
        "\n",
        "    return ''.join(chars)"
      ],
      "execution_count": 0,
      "outputs": []
    },
    {
      "cell_type": "code",
      "metadata": {
        "id": "NCVSvMJdvljJ",
        "colab_type": "code",
        "colab": {
          "base_uri": "https://localhost:8080/",
          "height": 782
        },
        "outputId": "52611362-edda-448c-afa4-824a9791ed17"
      },
      "source": [
        "print(sample(net, 1000, prime='You', top_k=3))"
      ],
      "execution_count": 26,
      "outputs": [
        {
          "output_type": "stream",
          "text": [
            "Your lovin' you will be\n",
            "All you need is all I need is you.\n",
            "I want you to say I'm so into you\n",
            "\n",
            "There's no mutic to my life with you\n",
            "\n",
            "That you've got me time and I want to be your lips \n",
            "\n",
            "I've got to let you go \n",
            "I will not let the will walk\n",
            "I want to live in love \n",
            "I can't let you go\n",
            "I can't live it all I wanna be with you\n",
            "I'll be there that you want more \n",
            "I don't know how that it things \n",
            "I wanna be with you\n",
            "\n",
            "I'm a little but in me\n",
            "This mant to made\n",
            "\n",
            "There are the same of my heart I wanna keep you the sea\n",
            "\n",
            "If you can't wait to be all that I wanna be a like\n",
            "\n",
            "You got me wanting away\n",
            "I want to let you know that I will be\n",
            "\n",
            "I wanna be your here, baby \n",
            "I want you to be my baby\n",
            "\n",
            "The way that I want you to see you want me\n",
            "I wanna be with you baby\n",
            "I will love you for all that I let you\n",
            "\n",
            "This much words I wanna keep mine\n",
            "\n",
            "To me what\n",
            "I can't live a lit and no\n",
            "I don't stear what this in this, \n",
            "I can't let you know you wild\n",
            "All the way in my life\n",
            "\n",
            "I can't lose to love you \n",
            "I'll be there to love\n",
            "I'm somethi\n"
          ],
          "name": "stdout"
        }
      ]
    },
    {
      "cell_type": "code",
      "metadata": {
        "id": "VStzMVvLvng4",
        "colab_type": "code",
        "colab": {}
      },
      "source": [
        ""
      ],
      "execution_count": 0,
      "outputs": []
    }
  ]
}